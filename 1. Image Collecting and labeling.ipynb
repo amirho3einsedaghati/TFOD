{
 "cells": [
  {
   "cell_type": "markdown",
   "metadata": {},
   "source": [
    "# 1. Import Dependencies"
   ]
  },
  {
   "cell_type": "code",
   "execution_count": null,
   "metadata": {},
   "outputs": [],
   "source": [
    "# !pip install opencv-python"
   ]
  },
  {
   "cell_type": "code",
   "execution_count": null,
   "metadata": {},
   "outputs": [],
   "source": [
    "# Import opencv\n",
    "import cv2 \n",
    "\n",
    "# Import uuid\n",
    "import uuid\n",
    "\n",
    "# Import Operating System\n",
    "import os\n",
    "\n",
    "# Import time\n",
    "import time"
   ]
  },
  {
   "cell_type": "markdown",
   "metadata": {},
   "source": [
    "# 2. Define Images to Collect"
   ]
  },
  {
   "cell_type": "code",
   "execution_count": null,
   "metadata": {},
   "outputs": [],
   "source": [
    "labels = ['thumbsup', 'thumbsdown', 'thankyou', 'livelong', 'hello']\n",
    "number_imgs = 10"
   ]
  },
  {
   "cell_type": "markdown",
   "metadata": {},
   "source": [
    "# 3. Setup Folders "
   ]
  },
  {
   "cell_type": "markdown",
   "metadata": {},
   "source": [
    "first, we should `create a path` using `os.path.join()`."
   ]
  },
  {
   "cell_type": "code",
   "execution_count": null,
   "metadata": {},
   "outputs": [],
   "source": [
    "IMAGES_PATH = os.path.join('Tensorflow', 'workspace', 'images', 'collectedimages')"
   ]
  },
  {
   "cell_type": "code",
   "execution_count": null,
   "metadata": {},
   "outputs": [],
   "source": [
    "print(IMAGES_PATH)"
   ]
  },
  {
   "cell_type": "markdown",
   "metadata": {},
   "source": [
    "---\n",
    "now we want to create our folder directory or folder path:"
   ]
  },
  {
   "cell_type": "markdown",
   "metadata": {},
   "source": [
    "<br>\n",
    "we can see what type of os is being used with this code:"
   ]
  },
  {
   "cell_type": "code",
   "execution_count": null,
   "metadata": {},
   "outputs": [],
   "source": [
    "os.name"
   ]
  },
  {
   "cell_type": "markdown",
   "metadata": {},
   "source": [
    "because I am using `windows` machine, It's going to read out `nt` but in `linlux` machine read out `posix`."
   ]
  },
  {
   "cell_type": "code",
   "execution_count": null,
   "metadata": {},
   "outputs": [],
   "source": [
    "if not os.path.exists(IMAGES_PATH):\n",
    "    if os.name == 'posix':\n",
    "        !mkdir -p {IMAGES_PATH}\n",
    "    if os.name == 'nt':\n",
    "         !mkdir {IMAGES_PATH}\n",
    "for label in labels:\n",
    "    path = os.path.join(IMAGES_PATH, label)\n",
    "    if not os.path.exists(path):\n",
    "        !mkdir {path}"
   ]
  },
  {
   "cell_type": "markdown",
   "metadata": {},
   "source": [
    "# x. Testing the capture device position"
   ]
  },
  {
   "cell_type": "code",
   "execution_count": null,
   "metadata": {},
   "outputs": [],
   "source": [
    "cap = cv2.VideoCapture(0)\n",
    "\n",
    "while cap.isOpened():\n",
    "    ret, frame = cap.read()\n",
    "    cv2.imshow('frame', cv2.resize(src=frame, dsize=(800, 600)))\n",
    "    \n",
    "    if cv2.waitKey(1) & 0xFF == ord('q'):\n",
    "        break\n",
    "        \n",
    "cap.release()\n",
    "cv2.destroyAllWindows()"
   ]
  },
  {
   "cell_type": "markdown",
   "metadata": {},
   "source": [
    "# 4. Capture Images"
   ]
  },
  {
   "cell_type": "code",
   "execution_count": null,
   "metadata": {
    "scrolled": false
   },
   "outputs": [],
   "source": [
    "def capture_image():\n",
    "    for label in labels:\n",
    "        cap = cv2.VideoCapture(0) # Connect to our Webcam or Capture device\n",
    "        print('Collecting images for {}'.format(label))\n",
    "        # delay execution for 5 seconds\n",
    "        time.sleep(5) \n",
    "        for imgnum in range(number_imgs):\n",
    "            print('{}. Collecting image {}'.format(imgnum + 1, imgnum))\n",
    "            # Grabs, decodes and returns the next video frame.\n",
    "            ret, frame = cap.read()\n",
    "            # creates an unique path for each image\n",
    "            imgname =  os.path.join(IMAGES_PATH,label,label+'.'+'{}.jpg'.format(str(uuid.uuid1())))\n",
    "            # Saves an image/frame to a specified file\n",
    "            cv2.imwrite(imgname, frame) \n",
    "            # Displays an image in the specified window\n",
    "            cv2.imshow('frame', cv2.resize(src=frame, dsize=(800, 600)))\n",
    "            time.sleep(2)\n",
    "\n",
    "            if cv2.waitKey(1) & 0xFF == ord('q'):\n",
    "                break\n",
    "\n",
    "    cap.release() \n",
    "    cv2.destroyAllWindows()\n",
    "    \n",
    "capture_image()"
   ]
  },
  {
   "cell_type": "markdown",
   "metadata": {},
   "source": [
    "# 5. Image Labelling (using labelImg library)"
   ]
  },
  {
   "cell_type": "markdown",
   "metadata": {},
   "source": [
    "[this link](https://github.com/heartexlabs/labelImg) is about the installation steps that we should go it through for the different types of OS.\n",
    "\n",
    "---"
   ]
  },
  {
   "cell_type": "markdown",
   "metadata": {},
   "source": [
    "<br>\n",
    "the steps below is for windows local machine"
   ]
  },
  {
   "cell_type": "markdown",
   "metadata": {},
   "source": [
    "---\n",
    "first we should install pyqt5 and lxml with the below code:"
   ]
  },
  {
   "cell_type": "code",
   "execution_count": null,
   "metadata": {},
   "outputs": [],
   "source": [
    "# !pip install --upgrade pyqt5 lxml"
   ]
  },
  {
   "cell_type": "markdown",
   "metadata": {},
   "source": [
    "with this code, we can see that pyqt5 and lxml are installed with many other dependencies."
   ]
  },
  {
   "cell_type": "code",
   "execution_count": null,
   "metadata": {
    "scrolled": false
   },
   "outputs": [],
   "source": [
    "# !pip list"
   ]
  },
  {
   "cell_type": "markdown",
   "metadata": {},
   "source": [
    "<br>\n",
    "create a new path for label image package."
   ]
  },
  {
   "cell_type": "code",
   "execution_count": null,
   "metadata": {},
   "outputs": [],
   "source": [
    "LABELIMG_PATH = os.path.join('Tensorflow', 'labelimg')"
   ]
  },
  {
   "cell_type": "markdown",
   "metadata": {},
   "source": [
    "<br>\n",
    "create a new folder path (or folder directory) for the label image package."
   ]
  },
  {
   "cell_type": "code",
   "execution_count": null,
   "metadata": {},
   "outputs": [],
   "source": [
    "if not os.path.exists(LABELIMG_PATH):\n",
    "    !mkdir {LABELIMG_PATH}\n",
    "    !git clone https://github.com/heartexlabs/labelImg {LABELIMG_PATH}"
   ]
  },
  {
   "cell_type": "markdown",
   "metadata": {},
   "source": [
    "the next thing we need to do is actually install label image."
   ]
  },
  {
   "cell_type": "code",
   "execution_count": null,
   "metadata": {},
   "outputs": [],
   "source": [
    "if os.name == 'posix':\n",
    "    !cd {LABELIMG_PATH} && make qt5py3\n",
    "if os.name =='nt':\n",
    "    !cd {LABELIMG_PATH} && pyrcc5 -o libs/resources.py resources.qrc"
   ]
  },
  {
   "cell_type": "markdown",
   "metadata": {},
   "source": [
    "And finally by runnig this code, the application, labelImg, open up."
   ]
  },
  {
   "cell_type": "code",
   "execution_count": null,
   "metadata": {
    "scrolled": false
   },
   "outputs": [],
   "source": [
    "!cd {LABELIMG_PATH} && python labelImg.py"
   ]
  },
  {
   "cell_type": "markdown",
   "metadata": {},
   "source": [
    "# 6. Move them into a Training and Testing Partition"
   ]
  },
  {
   "cell_type": "markdown",
   "metadata": {},
   "source": [
    "this step is used in a local machine"
   ]
  },
  {
   "cell_type": "code",
   "execution_count": null,
   "metadata": {},
   "outputs": [],
   "source": [
    "import random\n",
    "import shutil"
   ]
  },
  {
   "cell_type": "code",
   "execution_count": null,
   "metadata": {
    "scrolled": true
   },
   "outputs": [],
   "source": [
    "def M_pairFiles(jpg:list, xml:list): # create a list of pair-file tuples \n",
    "    pairFiles = list(zip(jpg, xml)) \n",
    "    random.shuffle(pairFiles)\n",
    "    return pairFiles\n",
    "\n",
    "def moveF_test_train():\n",
    "    for clss in os.listdir(path=IMAGES_PATH):\n",
    "        classinfo = os.listdir(os.path.join(IMAGES_PATH, clss))\n",
    "\n",
    "        if len(classinfo) == 0:\n",
    "            break\n",
    "\n",
    "        jpgList = []\n",
    "        xmlList = []\n",
    "#BI: Background Images are images that don't have any label. we add them to the train folder to reduce false detections\n",
    "        BI = []\n",
    "\n",
    "        for file in classinfo:\n",
    "            T = os.path.splitext(file)\n",
    "            if T[1] == '.jpg':\n",
    "                jpgList.append(file)\n",
    "            else:\n",
    "                xmlList.append(file)\n",
    "\n",
    "        if len(jpgList) == len(xmlList):\n",
    "            pairFiles = M_pairFiles(jpg=jpgList, xml=xmlList)\n",
    "\n",
    "        elif len(jpgList) > len(xmlList):\n",
    "            for jpg in jpgList: \n",
    "                if not clss in os.path.splitext(jpg)[0]: # we filter files not included a name same to the class names  \n",
    "                    BI.append(jpg)\n",
    "                    jpgList.remove(jpg)\n",
    "            if len(jpgList) == len(xmlList):\n",
    "                pairFiles = M_pairFiles(jpg=jpgList, xml=xmlList)\n",
    "\n",
    "        else:\n",
    "            raise ValueError(\"the length of xmlList must not be bigger than the length of jpgList\")\n",
    "        \n",
    "        length = len(pairFiles)\n",
    "        # We allocated 75% out of the whole data to the training set, the other data, 25%, to the test set, but You\n",
    "        # can change them\n",
    "        trainNum = int(length // (1 / 0.75)) # 75%\n",
    "        testNum = length - trainNum # 25%\n",
    "\n",
    "        trainLi = random.choices(population=pairFiles, k=trainNum)\n",
    "        while len(set(trainLi)) != trainNum:\n",
    "            trainLi = random.choices(population=pairFiles, k=trainNum)\n",
    "        random.seed(12345)\n",
    "\n",
    "        for file in trainLi:\n",
    "            pairFiles.remove(file)  \n",
    "        testLi = pairFiles   \n",
    "\n",
    "        X_train, y_train = zip(*trainLi) # unzip the elements of the trainLi to the X_train and y_train\n",
    "        X_train = list(X_train)\n",
    "        X_train.extend(BI) # finally, we add background Images to X_train \n",
    "        X_test, y_test = zip(*testLi)\n",
    "\n",
    "\n",
    "        src = os.path.join(IMAGES_PATH, clss)\n",
    "        dst = {'dst1' : os.path.join('Tensorflow', 'workspace', 'images', 'train'),\n",
    "              'dst2' : os.path.join('Tensorflow', 'workspace', 'images', 'test')}\n",
    "\n",
    "        for path in dst.values():    \n",
    "            if not os.path.exists(path):\n",
    "                if os.name == 'posix':\n",
    "                    !mkdir -p {path}\n",
    "                if os.name == 'nt':\n",
    "                    !mkdir {path}\n",
    "\n",
    "        for image in X_train:\n",
    "            shutil.move(os.path.join(src, image), dst['dst1'])\n",
    "\n",
    "        for annotation in y_train:\n",
    "            shutil.move(os.path.join(src, annotation), dst['dst1'])\n",
    "\n",
    "        for image in X_test:\n",
    "            shutil.move(os.path.join(src, image), dst['dst2'])\n",
    "\n",
    "        for annotation in y_test:\n",
    "            shutil.move(os.path.join(src, annotation), dst['dst2'])\n",
    "\n",
    "    if os.path.exists(IMAGES_PATH):\n",
    "        shutil.rmtree(IMAGES_PATH)\n",
    "\n",
    "try:\n",
    "    moveF_test_train()\n",
    "except FileNotFoundError:\n",
    "    pass"
   ]
  },
  {
   "cell_type": "markdown",
   "metadata": {},
   "source": [
    "# OPTIONAL - 7. Compress them for Colab Training"
   ]
  },
  {
   "cell_type": "code",
   "execution_count": null,
   "metadata": {},
   "outputs": [],
   "source": [
    "TRAIN_PATH = os.path.join('Tensorflow', 'workspace', 'images', 'train')\n",
    "TEST_PATH = os.path.join('Tensorflow', 'workspace', 'images', 'test')\n",
    "ARCHIVE_PATH = os.path.join('Tensorflow', 'workspace', 'images', 'archive.tar.gz')"
   ]
  },
  {
   "cell_type": "markdown",
   "metadata": {},
   "source": [
    "create a compress file:"
   ]
  },
  {
   "cell_type": "code",
   "execution_count": null,
   "metadata": {},
   "outputs": [],
   "source": [
    "!tar -czf {ARCHIVE_PATH} {TRAIN_PATH} {TEST_PATH}"
   ]
  }
 ],
 "metadata": {
  "kernelspec": {
   "display_name": "tfod",
   "language": "python",
   "name": "tfod"
  },
  "language_info": {
   "codemirror_mode": {
    "name": "ipython",
    "version": 3
   },
   "file_extension": ".py",
   "mimetype": "text/x-python",
   "name": "python",
   "nbconvert_exporter": "python",
   "pygments_lexer": "ipython3",
   "version": "3.10.0"
  },
  "latex_envs": {
   "LaTeX_envs_menu_present": true,
   "autoclose": false,
   "autocomplete": true,
   "bibliofile": "biblio.bib",
   "cite_by": "apalike",
   "current_citInitial": 1,
   "eqLabelWithNumbers": true,
   "eqNumInitial": 1,
   "hotkeys": {
    "equation": "Ctrl-E",
    "itemize": "Ctrl-I"
   },
   "labels_anchors": false,
   "latex_user_defs": false,
   "report_style_numbering": false,
   "user_envs_cfg": false
  }
 },
 "nbformat": 4,
 "nbformat_minor": 2
}
